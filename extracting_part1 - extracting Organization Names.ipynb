{
 "cells": [
  {
   "cell_type": "code",
   "execution_count": 2,
   "metadata": {},
   "outputs": [
    {
     "name": "stdout",
     "output_type": "stream",
     "text": [
      "Data has been written to organizations.csv\n"
     ]
    }
   ],
   "source": [
    "import requests\n",
    "from bs4 import BeautifulSoup\n",
    "import csv\n",
    "import re\n",
    "\n",
    "# Base URL of the page to scrape\n",
    "base_url = \"https://huggingface.co/organizations?p=\"\n",
    "\n",
    "# Number of pages to scrape\n",
    "num_pages = 3196\n",
    "data = []\n",
    "\n",
    "for page in range(3193, num_pages + 1):\n",
    "    url = base_url + str(page)\n",
    "    response = requests.get(url)\n",
    "    soup = BeautifulSoup(response.content, \"html.parser\")\n",
    "    \n",
    "    # Find all the article elements containing the organization links and organization types\n",
    "    organization_articles = soup.find_all(\"article\", class_=\"overview-card-wrapper group items-center sm:flex overflow-hidden\")\n",
    "    \n",
    "    # Iterate through each article to extract the required information\n",
    "    for article in organization_articles:\n",
    "        # Extract the href link from the 'a' tag (Organization ID)\n",
    "        href_element = article.find(\"a\", class_=\"flex w-max flex-1 items-center overflow-hidden p-3\")\n",
    "        if href_element:\n",
    "            href = href_element['href'].replace('/', '')  # Extract and clean the href value (remove \"/\")\n",
    "        else:\n",
    "            href = \"No href found\"\n",
    "\n",
    "        # Extract the organization name from the 'h4' tag\n",
    "        org_name_element = article.find(\"h4\", class_=\"truncate font-semibold md:text-lg\")\n",
    "        if org_name_element:\n",
    "            org_name = org_name_element.get_text(strip=True)  # Extract the organization name\n",
    "        else:\n",
    "            org_name = \"No organization name found\"\n",
    "\n",
    "        # Extract the organization type (if it exists)\n",
    "        org_type_element = article.find(\"div\", class_=\"truncate text-sm text-gray-400\")\n",
    "        if org_type_element:\n",
    "            org_type_text = org_type_element.get_text(strip=True)\n",
    "            # Capture the first phrase of the organization type, allowing for multi-word types (e.g., 'non-profit')\n",
    "            org_type_text = re.search(r'^[a-zA-Z-]+', org_type_text)\n",
    "            if org_type_text:\n",
    "                org_type_text = org_type_text.group(0)\n",
    "            else:\n",
    "                org_type_text = \"Enterprise\"\n",
    "        else:\n",
    "            org_type_text = \"Enterprise\"\n",
    "\n",
    "\n",
    "        data.append([href, org_name, org_type_text])\n",
    "\n",
    "with open(\"organizations.csv\", \"w\", newline=\"\", encoding=\"utf-8\") as file:\n",
    "    writer = csv.writer(file)\n",
    "    writer.writerow([\"Organization ID\", \"Organization Name\", \"Organization Type\"])  # Write the header row\n",
    "    writer.writerows(data)  # Write the data rows\n",
    "\n",
    "print(\"Data has been written to organizations.csv\")\n"
   ]
  },
  {
   "cell_type": "code",
   "execution_count": null,
   "metadata": {},
   "outputs": [],
   "source": []
  }
 ],
 "metadata": {
  "kernelspec": {
   "display_name": "retinopathy_gpu",
   "language": "python",
   "name": "python3"
  },
  "language_info": {
   "codemirror_mode": {
    "name": "ipython",
    "version": 3
   },
   "file_extension": ".py",
   "mimetype": "text/x-python",
   "name": "python",
   "nbconvert_exporter": "python",
   "pygments_lexer": "ipython3",
   "version": "3.9.19"
  }
 },
 "nbformat": 4,
 "nbformat_minor": 2
}
