{
 "cells": [
  {
   "cell_type": "code",
   "execution_count": 11,
   "metadata": {},
   "outputs": [],
   "source": [
    "import requests\n",
    "import pandas as pd\n",
    "from bs4 import BeautifulSoup\n",
    "relevant_links = pd.read_excel(\"Outputs/model_info_with down.xlsx\", sheet_name=1)"
   ]
  },
  {
   "cell_type": "code",
   "execution_count": 12,
   "metadata": {},
   "outputs": [],
   "source": [
    "def check_link_status(link):\n",
    "    try:\n",
    "        response = requests.get(link)\n",
    "        if response.status_code == 200:\n",
    "            soup = BeautifulSoup(response.text, 'html.parser')\n",
    "            error_404 = soup.find('h1', class_='mx-auto max-w-xl text-4xl font-bold text-gray-800 md:text-6xl')\n",
    "            error_message = soup.find('p', class_='mx-auto mt-6 max-w-sm whitespace-pre-line text-lg text-gray-500')\n",
    "            if error_404 and error_404.get_text() == \"404\" and error_message and \"Sorry, we can't find the page you are looking for.\" in error_message.get_text():\n",
    "                return \"Inactive\"\n",
    "            else:\n",
    "                return \"Active\"\n",
    "        else:\n",
    "            return \"Inactive\"\n",
    "    except:\n",
    "        return \"Inactive\""
   ]
  },
  {
   "cell_type": "code",
   "execution_count": 13,
   "metadata": {},
   "outputs": [
    {
     "data": {
      "text/html": [
       "<div>\n",
       "<style scoped>\n",
       "    .dataframe tbody tr th:only-of-type {\n",
       "        vertical-align: middle;\n",
       "    }\n",
       "\n",
       "    .dataframe tbody tr th {\n",
       "        vertical-align: top;\n",
       "    }\n",
       "\n",
       "    .dataframe thead th {\n",
       "        text-align: right;\n",
       "    }\n",
       "</style>\n",
       "<table border=\"1\" class=\"dataframe\">\n",
       "  <thead>\n",
       "    <tr style=\"text-align: right;\">\n",
       "      <th></th>\n",
       "      <th>Model Link</th>\n",
       "      <th>Sorting</th>\n",
       "      <th>Downloads All Time</th>\n",
       "      <th>Has Arxiv Tag</th>\n",
       "      <th>Model Card</th>\n",
       "      <th>Is_active</th>\n",
       "    </tr>\n",
       "  </thead>\n",
       "  <tbody>\n",
       "    <tr>\n",
       "      <th>0</th>\n",
       "      <td>https://huggingface.co/wukevin/tcr-bert</td>\n",
       "      <td>Most downloads</td>\n",
       "      <td>7063905</td>\n",
       "      <td>0</td>\n",
       "      <td>1</td>\n",
       "      <td>Active</td>\n",
       "    </tr>\n",
       "    <tr>\n",
       "      <th>1</th>\n",
       "      <td>https://huggingface.co/WinKawaks/vit-tiny-patc...</td>\n",
       "      <td>Most downloads</td>\n",
       "      <td>7934779</td>\n",
       "      <td>0</td>\n",
       "      <td>1</td>\n",
       "      <td>Active</td>\n",
       "    </tr>\n",
       "    <tr>\n",
       "      <th>2</th>\n",
       "      <td>https://huggingface.co/textattack/bert-base-un...</td>\n",
       "      <td>Most downloads</td>\n",
       "      <td>5735614</td>\n",
       "      <td>0</td>\n",
       "      <td>1</td>\n",
       "      <td>Active</td>\n",
       "    </tr>\n",
       "    <tr>\n",
       "      <th>3</th>\n",
       "      <td>https://huggingface.co/tavakolih/all-MiniLM-L6...</td>\n",
       "      <td>Most downloads</td>\n",
       "      <td>2747786</td>\n",
       "      <td>0</td>\n",
       "      <td>1</td>\n",
       "      <td>Active</td>\n",
       "    </tr>\n",
       "    <tr>\n",
       "      <th>4</th>\n",
       "      <td>https://huggingface.co/M-CLIP/XLM-Roberta-Larg...</td>\n",
       "      <td>Most downloads</td>\n",
       "      <td>7536618</td>\n",
       "      <td>0</td>\n",
       "      <td>1</td>\n",
       "      <td>Active</td>\n",
       "    </tr>\n",
       "  </tbody>\n",
       "</table>\n",
       "</div>"
      ],
      "text/plain": [
       "                                          Model Link         Sorting  \\\n",
       "0            https://huggingface.co/wukevin/tcr-bert  Most downloads   \n",
       "1  https://huggingface.co/WinKawaks/vit-tiny-patc...  Most downloads   \n",
       "2  https://huggingface.co/textattack/bert-base-un...  Most downloads   \n",
       "3  https://huggingface.co/tavakolih/all-MiniLM-L6...  Most downloads   \n",
       "4  https://huggingface.co/M-CLIP/XLM-Roberta-Larg...  Most downloads   \n",
       "\n",
       "   Downloads All Time  Has Arxiv Tag  Model Card Is_active  \n",
       "0             7063905              0           1    Active  \n",
       "1             7934779              0           1    Active  \n",
       "2             5735614              0           1    Active  \n",
       "3             2747786              0           1    Active  \n",
       "4             7536618              0           1    Active  "
      ]
     },
     "execution_count": 13,
     "metadata": {},
     "output_type": "execute_result"
    }
   ],
   "source": [
    "relevant_links = relevant_links[0:5]\n",
    "relevant_links['Is_active'] = relevant_links['Model Link'].apply(check_link_status)\n",
    "relevant_links"
   ]
  },
  {
   "cell_type": "code",
   "execution_count": null,
   "metadata": {},
   "outputs": [],
   "source": []
  }
 ],
 "metadata": {
  "kernelspec": {
   "display_name": "retinopathy_gpu",
   "language": "python",
   "name": "python3"
  },
  "language_info": {
   "codemirror_mode": {
    "name": "ipython",
    "version": 3
   },
   "file_extension": ".py",
   "mimetype": "text/x-python",
   "name": "python",
   "nbconvert_exporter": "python",
   "pygments_lexer": "ipython3",
   "version": "3.9.19"
  }
 },
 "nbformat": 4,
 "nbformat_minor": 2
}
