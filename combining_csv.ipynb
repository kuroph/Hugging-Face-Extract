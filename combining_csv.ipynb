{
 "cells": [
  {
   "cell_type": "code",
   "execution_count": 6,
   "metadata": {},
   "outputs": [
    {
     "name": "stdout",
     "output_type": "stream",
     "text": [
      "CSV files combined successfully!\n"
     ]
    }
   ],
   "source": [
    "import pandas as pd\n",
    "import os\n",
    "\n",
    "# Path to the folder containing the CSV files\n",
    "folder_path = \"huggingface csv\"\n",
    "\n",
    "# List to hold the DataFrames\n",
    "df_list = []\n",
    "\n",
    "# Loop through all files in the folder\n",
    "for filename in os.listdir(folder_path):\n",
    "    if filename.endswith(\".csv\"):\n",
    "        file_path = os.path.join(folder_path, filename)\n",
    "        df = pd.read_csv(file_path)\n",
    "        df_list.append(df)\n",
    "\n",
    "combined_df = pd.concat(df_list, ignore_index=True)\n",
    "combined_df.to_csv(\"Outputs//combined_model_info.csv\", index=False)\n",
    "\n",
    "print(\"CSV files combined successfully!\")"
   ]
  },
  {
   "cell_type": "code",
   "execution_count": null,
   "metadata": {},
   "outputs": [],
   "source": []
  },
  {
   "cell_type": "code",
   "execution_count": null,
   "metadata": {},
   "outputs": [],
   "source": []
  },
  {
   "cell_type": "code",
   "execution_count": 7,
   "metadata": {},
   "outputs": [],
   "source": [
    "import pandas as pd \n",
    "# Sample text\n",
    "\n",
    "with open('huggingface csv//Errors.txt', 'r') as file:\n",
    "    text = file.read()\n",
    "\n",
    "# Split the text by lines\n",
    "lines = text.strip().split('\\n')\n",
    "result = []\n",
    "\n",
    "for line in lines:\n",
    "    line = line.lstrip()\n",
    "    # Skip lines that contain \"Finished processing batch\"\n",
    "    if \"Finished processing batch\" in line:\n",
    "        continue\n",
    "    if \"Finished processing batch\" in line:\n",
    "        continue\n",
    "    if \"Logged in successfully!\" in line:\n",
    "        continue\n",
    "    if line == \"\":\n",
    "        continue\n",
    "    if ' for ' in line:\n",
    "        part_after_for = line.split('for', 1)[-1].strip()  # Strip any surrounding whitespaces only\n",
    "        result.append(part_after_for)\n",
    "    else:\n",
    "        result.append(line)\n",
    "\n",
    "unique_result = list(set(result))\n",
    "df = pd.DataFrame(unique_result, columns=['Model Link'])\n",
    "df['Tag'] = 'Text Generation'\n",
    "\n",
    "df.to_csv('Outputs//Errors_retry.csv', index=False)\n"
   ]
  },
  {
   "cell_type": "code",
   "execution_count": null,
   "metadata": {},
   "outputs": [],
   "source": []
  },
  {
   "cell_type": "code",
   "execution_count": null,
   "metadata": {},
   "outputs": [],
   "source": []
  },
  {
   "cell_type": "code",
   "execution_count": 17,
   "metadata": {},
   "outputs": [],
   "source": [
    "import pandas as pd\n",
    "\n",
    "# Load the two CSV files\n",
    "errors_retry_results = pd.read_csv('Outputs//Errors_retry_results.csv')\n",
    "combined_model_info = pd.read_csv('Outputs//combined_model_info.csv')\n",
    "\n",
    "# Iterate through each row in errors_retry_results\n",
    "for index, error_row in errors_retry_results.iterrows():\n",
    "    # Find the index of the row in combined_model_info that matches the 'Model Link'\n",
    "    match_index = combined_model_info[combined_model_info['Model Link'] == error_row['Model Link']].index\n",
    "\n",
    "    combined_model_info.loc[match_index[0]] = error_row.values\n",
    "\n",
    "# Save the updated DataFrame to a new CSV file\n",
    "combined_model_info.to_csv('Outputs//updated_combined_model_info.csv', index=False)\n"
   ]
  },
  {
   "cell_type": "code",
   "execution_count": 16,
   "metadata": {},
   "outputs": [
    {
     "data": {
      "text/plain": [
       "'https://huggingface.co/FT6/model_1: Message:'"
      ]
     },
     "execution_count": 16,
     "metadata": {},
     "output_type": "execute_result"
    }
   ],
   "source": [
    "error_row['Model Link']"
   ]
  }
 ],
 "metadata": {
  "kernelspec": {
   "display_name": "retinopathy_gpu",
   "language": "python",
   "name": "python3"
  },
  "language_info": {
   "codemirror_mode": {
    "name": "ipython",
    "version": 3
   },
   "file_extension": ".py",
   "mimetype": "text/x-python",
   "name": "python",
   "nbconvert_exporter": "python",
   "pygments_lexer": "ipython3",
   "version": "3.9.19"
  }
 },
 "nbformat": 4,
 "nbformat_minor": 2
}
